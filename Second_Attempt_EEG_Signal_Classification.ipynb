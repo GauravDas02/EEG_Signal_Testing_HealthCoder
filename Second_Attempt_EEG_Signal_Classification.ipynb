{
 "cells": [
  {
   "cell_type": "code",
   "execution_count": 18,
   "metadata": {},
   "outputs": [],
   "source": [
    "import pandas as pd"
   ]
  },
  {
   "cell_type": "code",
   "execution_count": 20,
   "metadata": {},
   "outputs": [],
   "source": [
    "import seaborn as sns\n",
    "import matplotlib.pyplot as plt\n",
    "%matplotlib inline"
   ]
  },
  {
   "cell_type": "code",
   "execution_count": 46,
   "metadata": {},
   "outputs": [],
   "source": [
    "import tensorflow as tf\n",
    "from tensorflow import keras\n",
    "from tensorflow.python.keras import layers\n",
    "from tensorflow.python.keras.callbacks import EarlyStopping\n",
    "from tensorflow.python.keras.layers import Dense, Activation, Dropout\n",
    "from tensorflow.python.keras.optimizers import adam_v2\n",
    "from tensorflow.python.keras.metrics import CategoricalAccuracy\n",
    "from tensorflow.python.keras.models import Sequential\n",
    "from keras.models import load_model, save_model"
   ]
  },
  {
   "cell_type": "code",
   "execution_count": 22,
   "metadata": {},
   "outputs": [],
   "source": [
    "import sklearn\n",
    "from sklearn.preprocessing import StandardScaler\n",
    "from sklearn.model_selection import train_test_split"
   ]
  },
  {
   "cell_type": "code",
   "execution_count": 40,
   "metadata": {},
   "outputs": [],
   "source": [
    "import pickle\n",
    "import joblib"
   ]
  },
  {
   "cell_type": "code",
   "execution_count": 23,
   "metadata": {},
   "outputs": [],
   "source": [
    "focussed_day1 = pd.read_csv(\"C:\\EEG Attention State\\CSV Files\\Day 3 - Focussed.csv\")\n",
    "focussed_day1 = focussed_day1.dropna(axis=0)\n",
    "drowsy_day1 = pd.read_csv(\"C:\\EEG Attention State\\CSV Files\\Day 3 - Semi-Focussed or Drowsy.csv\")\n",
    "unfocussed_day1 = pd.read_csv(\"C:\\EEG Attention State\\CSV Files\\Day 3 - Unfocussed or Sleeping.csv\")\n",
    "drowsy_day1 = drowsy_day1.dropna(axis=0)\n",
    "unfocussed_day1 = unfocussed_day1.dropna(axis=0)"
   ]
  },
  {
   "cell_type": "code",
   "execution_count": 24,
   "metadata": {},
   "outputs": [
    {
     "data": {
      "text/html": [
       "<div>\n",
       "<style scoped>\n",
       "    .dataframe tbody tr th:only-of-type {\n",
       "        vertical-align: middle;\n",
       "    }\n",
       "\n",
       "    .dataframe tbody tr th {\n",
       "        vertical-align: top;\n",
       "    }\n",
       "\n",
       "    .dataframe thead th {\n",
       "        text-align: right;\n",
       "    }\n",
       "</style>\n",
       "<table border=\"1\" class=\"dataframe\">\n",
       "  <thead>\n",
       "    <tr style=\"text-align: right;\">\n",
       "      <th></th>\n",
       "      <th>AF3</th>\n",
       "      <th>F7</th>\n",
       "      <th>F3</th>\n",
       "      <th>FC5</th>\n",
       "      <th>T7</th>\n",
       "      <th>P7</th>\n",
       "      <th>O1</th>\n",
       "      <th>O2</th>\n",
       "      <th>P8</th>\n",
       "      <th>T8</th>\n",
       "      <th>FC6</th>\n",
       "      <th>F4</th>\n",
       "      <th>F8</th>\n",
       "      <th>AF4</th>\n",
       "      <th>Class</th>\n",
       "    </tr>\n",
       "  </thead>\n",
       "  <tbody>\n",
       "    <tr>\n",
       "      <th>0</th>\n",
       "      <td>4440.512821</td>\n",
       "      <td>3804.102564</td>\n",
       "      <td>5210.769231</td>\n",
       "      <td>3829.230769</td>\n",
       "      <td>4030.256410</td>\n",
       "      <td>4490.769231</td>\n",
       "      <td>3862.051282</td>\n",
       "      <td>3511.794872</td>\n",
       "      <td>4321.025641</td>\n",
       "      <td>4304.615385</td>\n",
       "      <td>4141.025641</td>\n",
       "      <td>4282.564103</td>\n",
       "      <td>4333.846154</td>\n",
       "      <td>4024.102564</td>\n",
       "      <td>Focussed</td>\n",
       "    </tr>\n",
       "    <tr>\n",
       "      <th>1</th>\n",
       "      <td>4440.512821</td>\n",
       "      <td>3796.410256</td>\n",
       "      <td>5205.641026</td>\n",
       "      <td>3827.179487</td>\n",
       "      <td>4030.256410</td>\n",
       "      <td>4489.230769</td>\n",
       "      <td>3858.461538</td>\n",
       "      <td>3505.128205</td>\n",
       "      <td>4311.794872</td>\n",
       "      <td>4304.615385</td>\n",
       "      <td>4144.615385</td>\n",
       "      <td>4282.564103</td>\n",
       "      <td>4335.384615</td>\n",
       "      <td>4017.948718</td>\n",
       "      <td>Focussed</td>\n",
       "    </tr>\n",
       "    <tr>\n",
       "      <th>2</th>\n",
       "      <td>4440.512821</td>\n",
       "      <td>3798.974359</td>\n",
       "      <td>5207.179487</td>\n",
       "      <td>3827.692308</td>\n",
       "      <td>4030.256410</td>\n",
       "      <td>4489.230769</td>\n",
       "      <td>3865.128205</td>\n",
       "      <td>3511.794872</td>\n",
       "      <td>4313.846154</td>\n",
       "      <td>4304.615385</td>\n",
       "      <td>4148.717949</td>\n",
       "      <td>4282.564103</td>\n",
       "      <td>4334.871795</td>\n",
       "      <td>4018.974359</td>\n",
       "      <td>Focussed</td>\n",
       "    </tr>\n",
       "    <tr>\n",
       "      <th>3</th>\n",
       "      <td>4440.512821</td>\n",
       "      <td>3801.538462</td>\n",
       "      <td>5210.256410</td>\n",
       "      <td>3830.769231</td>\n",
       "      <td>4030.256410</td>\n",
       "      <td>4490.256410</td>\n",
       "      <td>3866.153846</td>\n",
       "      <td>3511.282051</td>\n",
       "      <td>4315.897436</td>\n",
       "      <td>4304.615385</td>\n",
       "      <td>4146.666667</td>\n",
       "      <td>4282.564103</td>\n",
       "      <td>4334.358974</td>\n",
       "      <td>4022.051282</td>\n",
       "      <td>Focussed</td>\n",
       "    </tr>\n",
       "    <tr>\n",
       "      <th>4</th>\n",
       "      <td>4440.512821</td>\n",
       "      <td>3799.487179</td>\n",
       "      <td>5210.256410</td>\n",
       "      <td>3831.794872</td>\n",
       "      <td>4030.256410</td>\n",
       "      <td>4490.256410</td>\n",
       "      <td>3865.641026</td>\n",
       "      <td>3506.153846</td>\n",
       "      <td>4311.282051</td>\n",
       "      <td>4304.615385</td>\n",
       "      <td>4145.641026</td>\n",
       "      <td>4282.564103</td>\n",
       "      <td>4333.846154</td>\n",
       "      <td>4020.512821</td>\n",
       "      <td>Focussed</td>\n",
       "    </tr>\n",
       "    <tr>\n",
       "      <th>...</th>\n",
       "      <td>...</td>\n",
       "      <td>...</td>\n",
       "      <td>...</td>\n",
       "      <td>...</td>\n",
       "      <td>...</td>\n",
       "      <td>...</td>\n",
       "      <td>...</td>\n",
       "      <td>...</td>\n",
       "      <td>...</td>\n",
       "      <td>...</td>\n",
       "      <td>...</td>\n",
       "      <td>...</td>\n",
       "      <td>...</td>\n",
       "      <td>...</td>\n",
       "      <td>...</td>\n",
       "    </tr>\n",
       "    <tr>\n",
       "      <th>929062</th>\n",
       "      <td>4452.820513</td>\n",
       "      <td>3960.512821</td>\n",
       "      <td>5045.641026</td>\n",
       "      <td>3844.615385</td>\n",
       "      <td>4045.641026</td>\n",
       "      <td>4325.128205</td>\n",
       "      <td>4213.846154</td>\n",
       "      <td>3943.589744</td>\n",
       "      <td>4123.589744</td>\n",
       "      <td>4309.743590</td>\n",
       "      <td>4137.435897</td>\n",
       "      <td>4283.076923</td>\n",
       "      <td>4336.923077</td>\n",
       "      <td>4101.025641</td>\n",
       "      <td>Unfocussed</td>\n",
       "    </tr>\n",
       "    <tr>\n",
       "      <th>929063</th>\n",
       "      <td>4455.897436</td>\n",
       "      <td>3956.410256</td>\n",
       "      <td>5051.794872</td>\n",
       "      <td>3843.589744</td>\n",
       "      <td>4043.076923</td>\n",
       "      <td>4324.615385</td>\n",
       "      <td>4214.871795</td>\n",
       "      <td>3942.051282</td>\n",
       "      <td>4120.512821</td>\n",
       "      <td>4307.179487</td>\n",
       "      <td>4144.615385</td>\n",
       "      <td>4286.153846</td>\n",
       "      <td>4335.384615</td>\n",
       "      <td>4096.923077</td>\n",
       "      <td>Unfocussed</td>\n",
       "    </tr>\n",
       "    <tr>\n",
       "      <th>929064</th>\n",
       "      <td>4444.102564</td>\n",
       "      <td>3960.512821</td>\n",
       "      <td>5041.025641</td>\n",
       "      <td>3831.282051</td>\n",
       "      <td>4042.564103</td>\n",
       "      <td>4323.589744</td>\n",
       "      <td>4214.871795</td>\n",
       "      <td>3949.743590</td>\n",
       "      <td>4122.564103</td>\n",
       "      <td>4309.743590</td>\n",
       "      <td>4149.743590</td>\n",
       "      <td>4287.179487</td>\n",
       "      <td>4334.871795</td>\n",
       "      <td>4096.923077</td>\n",
       "      <td>Unfocussed</td>\n",
       "    </tr>\n",
       "    <tr>\n",
       "      <th>929065</th>\n",
       "      <td>4438.461538</td>\n",
       "      <td>3959.487179</td>\n",
       "      <td>5031.794872</td>\n",
       "      <td>3834.358974</td>\n",
       "      <td>4042.051282</td>\n",
       "      <td>4323.076923</td>\n",
       "      <td>4216.923077</td>\n",
       "      <td>3956.410256</td>\n",
       "      <td>4124.615385</td>\n",
       "      <td>4317.435897</td>\n",
       "      <td>4155.384615</td>\n",
       "      <td>4287.692308</td>\n",
       "      <td>4334.871795</td>\n",
       "      <td>4095.384615</td>\n",
       "      <td>Unfocussed</td>\n",
       "    </tr>\n",
       "    <tr>\n",
       "      <th>929066</th>\n",
       "      <td>4440.000000</td>\n",
       "      <td>3956.410256</td>\n",
       "      <td>5035.384615</td>\n",
       "      <td>3840.000000</td>\n",
       "      <td>4043.589744</td>\n",
       "      <td>4323.076923</td>\n",
       "      <td>4220.512821</td>\n",
       "      <td>3960.512821</td>\n",
       "      <td>4127.692308</td>\n",
       "      <td>4318.461538</td>\n",
       "      <td>4162.564103</td>\n",
       "      <td>4283.589744</td>\n",
       "      <td>4334.358974</td>\n",
       "      <td>4095.384615</td>\n",
       "      <td>Unfocussed</td>\n",
       "    </tr>\n",
       "  </tbody>\n",
       "</table>\n",
       "<p>1543464 rows × 15 columns</p>\n",
       "</div>"
      ],
      "text/plain": [
       "                AF3           F7           F3          FC5           T7   \n",
       "0       4440.512821  3804.102564  5210.769231  3829.230769  4030.256410  \\\n",
       "1       4440.512821  3796.410256  5205.641026  3827.179487  4030.256410   \n",
       "2       4440.512821  3798.974359  5207.179487  3827.692308  4030.256410   \n",
       "3       4440.512821  3801.538462  5210.256410  3830.769231  4030.256410   \n",
       "4       4440.512821  3799.487179  5210.256410  3831.794872  4030.256410   \n",
       "...             ...          ...          ...          ...          ...   \n",
       "929062  4452.820513  3960.512821  5045.641026  3844.615385  4045.641026   \n",
       "929063  4455.897436  3956.410256  5051.794872  3843.589744  4043.076923   \n",
       "929064  4444.102564  3960.512821  5041.025641  3831.282051  4042.564103   \n",
       "929065  4438.461538  3959.487179  5031.794872  3834.358974  4042.051282   \n",
       "929066  4440.000000  3956.410256  5035.384615  3840.000000  4043.589744   \n",
       "\n",
       "                 P7           O1           O2           P8           T8   \n",
       "0       4490.769231  3862.051282  3511.794872  4321.025641  4304.615385  \\\n",
       "1       4489.230769  3858.461538  3505.128205  4311.794872  4304.615385   \n",
       "2       4489.230769  3865.128205  3511.794872  4313.846154  4304.615385   \n",
       "3       4490.256410  3866.153846  3511.282051  4315.897436  4304.615385   \n",
       "4       4490.256410  3865.641026  3506.153846  4311.282051  4304.615385   \n",
       "...             ...          ...          ...          ...          ...   \n",
       "929062  4325.128205  4213.846154  3943.589744  4123.589744  4309.743590   \n",
       "929063  4324.615385  4214.871795  3942.051282  4120.512821  4307.179487   \n",
       "929064  4323.589744  4214.871795  3949.743590  4122.564103  4309.743590   \n",
       "929065  4323.076923  4216.923077  3956.410256  4124.615385  4317.435897   \n",
       "929066  4323.076923  4220.512821  3960.512821  4127.692308  4318.461538   \n",
       "\n",
       "                FC6           F4           F8          AF4       Class  \n",
       "0       4141.025641  4282.564103  4333.846154  4024.102564    Focussed  \n",
       "1       4144.615385  4282.564103  4335.384615  4017.948718    Focussed  \n",
       "2       4148.717949  4282.564103  4334.871795  4018.974359    Focussed  \n",
       "3       4146.666667  4282.564103  4334.358974  4022.051282    Focussed  \n",
       "4       4145.641026  4282.564103  4333.846154  4020.512821    Focussed  \n",
       "...             ...          ...          ...          ...         ...  \n",
       "929062  4137.435897  4283.076923  4336.923077  4101.025641  Unfocussed  \n",
       "929063  4144.615385  4286.153846  4335.384615  4096.923077  Unfocussed  \n",
       "929064  4149.743590  4287.179487  4334.871795  4096.923077  Unfocussed  \n",
       "929065  4155.384615  4287.692308  4334.871795  4095.384615  Unfocussed  \n",
       "929066  4162.564103  4283.589744  4334.358974  4095.384615  Unfocussed  \n",
       "\n",
       "[1543464 rows x 15 columns]"
      ]
     },
     "execution_count": 24,
     "metadata": {},
     "output_type": "execute_result"
    }
   ],
   "source": [
    "merged = pd.concat([focussed_day1, drowsy_day1, unfocussed_day1])\n",
    "merged"
   ]
  },
  {
   "cell_type": "code",
   "execution_count": 25,
   "metadata": {},
   "outputs": [],
   "source": [
    "test_features = ['F7', 'F3', 'P7', 'O1', 'O2', 'P8', 'AF4']\n",
    "test_value_features = ['Class']"
   ]
  },
  {
   "cell_type": "code",
   "execution_count": 26,
   "metadata": {},
   "outputs": [],
   "source": [
    "#focussed_day2 = pd.read_csv(\"C:\\EEG Attention State\\CSV Files\\Day 4 - Focussed.csv\")\n",
    "#drowsy_day2 = pd.read_csv(\"C:\\EEG Attention State\\CSV Files\\Day 4 - Semi-Focussed or Drowsy.csv\")\n",
    "#unfocussed_day2 = pd.read_csv(\"C:\\EEG Attention State\\CSV Files\\Day 4 - Unfocussed or Sleeping.csv\")\n",
    "#focussed_day2 = focussed_day2.dropna(axis=0)\n",
    "#drowsy_day2 = drowsy_day2.dropna(axis=0)\n",
    "#unfocussed_day2 = unfocussed_day2.dropna(axis=0)"
   ]
  },
  {
   "cell_type": "code",
   "execution_count": 38,
   "metadata": {},
   "outputs": [],
   "source": [
    "#merged2 = pd.concat([focussed_day2, drowsy_day2, unfocussed_day2])"
   ]
  },
  {
   "cell_type": "code",
   "execution_count": 27,
   "metadata": {},
   "outputs": [],
   "source": [
    "X_train1 = merged[test_features]\n",
    "y_train1 = merged[test_value_features]"
   ]
  },
  {
   "cell_type": "code",
   "execution_count": 28,
   "metadata": {},
   "outputs": [],
   "source": [
    "X_train, X_test, y_train, y_test = train_test_split(X_train1, y_train1, test_size=0.2, random_state=128, stratify=y_train1)"
   ]
  },
  {
   "cell_type": "code",
   "execution_count": 29,
   "metadata": {},
   "outputs": [],
   "source": [
    "y_train_encoded = pd.get_dummies(y_train)\n",
    "y_test_encoded = pd.get_dummies(y_test)\n"
   ]
  },
  {
   "cell_type": "code",
   "execution_count": 30,
   "metadata": {},
   "outputs": [],
   "source": [
    "def elu(x, alpha=1.0):\n",
    "    return tf.keras.layers.ELU(alpha=alpha)(x)"
   ]
  },
  {
   "cell_type": "code",
   "execution_count": 31,
   "metadata": {},
   "outputs": [],
   "source": [
    "scaler = StandardScaler()\n",
    "scaler.fit(X_train)\n",
    "\n",
    "X_train_scaled = scaler.transform(X_train)\n",
    "X_val_scaled = scaler.transform(X_test)"
   ]
  },
  {
   "cell_type": "code",
   "execution_count": 39,
   "metadata": {},
   "outputs": [],
   "source": [
    "#X_val = merged2[test_features]\n",
    "#y_val = merged2[test_value_features]"
   ]
  },
  {
   "cell_type": "code",
   "execution_count": 32,
   "metadata": {},
   "outputs": [],
   "source": [
    "early_stopping = EarlyStopping(\n",
    "    min_delta=0.001, \n",
    "    patience=20, \n",
    "    restore_best_weights=True,\n",
    ")"
   ]
  },
  {
   "cell_type": "code",
   "execution_count": 35,
   "metadata": {},
   "outputs": [],
   "source": [
    "model = Sequential([\n",
    "    layers.Dense(1024, activation=elu, input_shape=[7]),  \n",
    "    layers.Dropout(0.3),\n",
    "    layers.Dense(1024, activation=elu),\n",
    "    layers.Dropout(0.3),\n",
    "    layers.Dense(1024, activation=elu),\n",
    "    layers.Dropout(0.3),\n",
    "    layers.Dense(3, activation='softmax')\n",
    "])\n"
   ]
  },
  {
   "cell_type": "code",
   "execution_count": 36,
   "metadata": {},
   "outputs": [],
   "source": [
    "model.compile(\n",
    "    optimizer='adam',\n",
    "    loss=tf.keras.losses.CategoricalCrossentropy(),\n",
    "    metrics=['accuracy'],\n",
    ")"
   ]
  },
  {
   "cell_type": "code",
   "execution_count": 37,
   "metadata": {},
   "outputs": [
    {
     "name": "stdout",
     "output_type": "stream",
     "text": [
      "Epoch 1/50\n",
      "76/76 [==============================] - 53s 690ms/step - loss: 0.9153 - accuracy: 0.6038 - val_loss: 0.8164 - val_accuracy: 0.6576\n",
      "Epoch 2/50\n",
      "76/76 [==============================] - 52s 687ms/step - loss: 0.7979 - accuracy: 0.6671 - val_loss: 0.7291 - val_accuracy: 0.6925\n",
      "Epoch 3/50\n",
      "76/76 [==============================] - 52s 688ms/step - loss: 0.7420 - accuracy: 0.6891 - val_loss: 0.6757 - val_accuracy: 0.7113\n",
      "Epoch 4/50\n",
      "76/76 [==============================] - 51s 678ms/step - loss: 0.6985 - accuracy: 0.7081 - val_loss: 0.6334 - val_accuracy: 0.7338\n",
      "Epoch 5/50\n",
      "76/76 [==============================] - 52s 686ms/step - loss: 0.6612 - accuracy: 0.7244 - val_loss: 0.6030 - val_accuracy: 0.7484\n",
      "Epoch 6/50\n",
      "76/76 [==============================] - 52s 682ms/step - loss: 0.6295 - accuracy: 0.7383 - val_loss: 0.5716 - val_accuracy: 0.7666\n",
      "Epoch 7/50\n",
      "76/76 [==============================] - 52s 684ms/step - loss: 0.6020 - accuracy: 0.7505 - val_loss: 0.5495 - val_accuracy: 0.7762\n",
      "Epoch 8/50\n",
      "76/76 [==============================] - 52s 681ms/step - loss: 0.5822 - accuracy: 0.7592 - val_loss: 0.5332 - val_accuracy: 0.7819\n",
      "Epoch 9/50\n",
      "76/76 [==============================] - 52s 680ms/step - loss: 0.5671 - accuracy: 0.7660 - val_loss: 0.5215 - val_accuracy: 0.7872\n",
      "Epoch 10/50\n",
      "76/76 [==============================] - 52s 688ms/step - loss: 0.5556 - accuracy: 0.7712 - val_loss: 0.5110 - val_accuracy: 0.7923\n",
      "Epoch 11/50\n",
      "76/76 [==============================] - 52s 688ms/step - loss: 0.5458 - accuracy: 0.7756 - val_loss: 0.5041 - val_accuracy: 0.7947\n",
      "Epoch 12/50\n",
      "76/76 [==============================] - 52s 685ms/step - loss: 0.5390 - accuracy: 0.7788 - val_loss: 0.4957 - val_accuracy: 0.8002\n",
      "Epoch 13/50\n",
      "76/76 [==============================] - 52s 686ms/step - loss: 0.5320 - accuracy: 0.7816 - val_loss: 0.4902 - val_accuracy: 0.8015\n",
      "Epoch 14/50\n",
      "76/76 [==============================] - 52s 688ms/step - loss: 0.5261 - accuracy: 0.7846 - val_loss: 0.4862 - val_accuracy: 0.8029\n",
      "Epoch 15/50\n",
      "76/76 [==============================] - 52s 685ms/step - loss: 0.5215 - accuracy: 0.7863 - val_loss: 0.4811 - val_accuracy: 0.8051\n",
      "Epoch 16/50\n",
      "76/76 [==============================] - 52s 685ms/step - loss: 0.5162 - accuracy: 0.7891 - val_loss: 0.4795 - val_accuracy: 0.8061\n",
      "Epoch 17/50\n",
      "76/76 [==============================] - 52s 686ms/step - loss: 0.5122 - accuracy: 0.7909 - val_loss: 0.4739 - val_accuracy: 0.8079\n",
      "Epoch 18/50\n",
      "76/76 [==============================] - 52s 688ms/step - loss: 0.5074 - accuracy: 0.7927 - val_loss: 0.4683 - val_accuracy: 0.8111\n",
      "Epoch 19/50\n",
      "76/76 [==============================] - 53s 700ms/step - loss: 0.5032 - accuracy: 0.7948 - val_loss: 0.4623 - val_accuracy: 0.8131\n",
      "Epoch 20/50\n",
      "76/76 [==============================] - 52s 689ms/step - loss: 0.4995 - accuracy: 0.7966 - val_loss: 0.4581 - val_accuracy: 0.8152\n",
      "Epoch 21/50\n",
      "76/76 [==============================] - 52s 680ms/step - loss: 0.4964 - accuracy: 0.7977 - val_loss: 0.4565 - val_accuracy: 0.8159\n",
      "Epoch 22/50\n",
      "76/76 [==============================] - 52s 680ms/step - loss: 0.4931 - accuracy: 0.7992 - val_loss: 0.4508 - val_accuracy: 0.8192\n",
      "Epoch 23/50\n",
      "76/76 [==============================] - 52s 679ms/step - loss: 0.4889 - accuracy: 0.8007 - val_loss: 0.4470 - val_accuracy: 0.8203\n",
      "Epoch 24/50\n",
      "76/76 [==============================] - 51s 678ms/step - loss: 0.4856 - accuracy: 0.8023 - val_loss: 0.4432 - val_accuracy: 0.8216\n",
      "Epoch 25/50\n",
      "76/76 [==============================] - 52s 679ms/step - loss: 0.4829 - accuracy: 0.8032 - val_loss: 0.4423 - val_accuracy: 0.8220\n",
      "Epoch 26/50\n",
      "76/76 [==============================] - 52s 679ms/step - loss: 0.4789 - accuracy: 0.8053 - val_loss: 0.4374 - val_accuracy: 0.8240\n",
      "Epoch 27/50\n",
      "76/76 [==============================] - 51s 677ms/step - loss: 0.4754 - accuracy: 0.8066 - val_loss: 0.4350 - val_accuracy: 0.8266\n",
      "Epoch 28/50\n",
      "76/76 [==============================] - 51s 677ms/step - loss: 0.4731 - accuracy: 0.8076 - val_loss: 0.4316 - val_accuracy: 0.8269\n",
      "Epoch 29/50\n",
      "76/76 [==============================] - 51s 677ms/step - loss: 0.4704 - accuracy: 0.8090 - val_loss: 0.4266 - val_accuracy: 0.8290\n",
      "Epoch 30/50\n",
      "76/76 [==============================] - 52s 678ms/step - loss: 0.4668 - accuracy: 0.8104 - val_loss: 0.4239 - val_accuracy: 0.8302\n",
      "Epoch 31/50\n",
      "76/76 [==============================] - 52s 679ms/step - loss: 0.4643 - accuracy: 0.8118 - val_loss: 0.4203 - val_accuracy: 0.8320\n",
      "Epoch 32/50\n",
      "76/76 [==============================] - 52s 680ms/step - loss: 0.4616 - accuracy: 0.8130 - val_loss: 0.4208 - val_accuracy: 0.8332\n",
      "Epoch 33/50\n",
      "76/76 [==============================] - 52s 678ms/step - loss: 0.4590 - accuracy: 0.8137 - val_loss: 0.4141 - val_accuracy: 0.8346\n",
      "Epoch 34/50\n",
      "76/76 [==============================] - 52s 685ms/step - loss: 0.4557 - accuracy: 0.8155 - val_loss: 0.4160 - val_accuracy: 0.8342\n",
      "Epoch 35/50\n",
      "76/76 [==============================] - 52s 687ms/step - loss: 0.4551 - accuracy: 0.8155 - val_loss: 0.4095 - val_accuracy: 0.8365\n",
      "Epoch 36/50\n",
      "76/76 [==============================] - 52s 680ms/step - loss: 0.4508 - accuracy: 0.8173 - val_loss: 0.4062 - val_accuracy: 0.8383\n",
      "Epoch 37/50\n",
      "76/76 [==============================] - 52s 678ms/step - loss: 0.4482 - accuracy: 0.8186 - val_loss: 0.4019 - val_accuracy: 0.8395\n",
      "Epoch 38/50\n",
      "76/76 [==============================] - 52s 679ms/step - loss: 0.4464 - accuracy: 0.8193 - val_loss: 0.4012 - val_accuracy: 0.8402\n",
      "Epoch 39/50\n",
      "76/76 [==============================] - 52s 678ms/step - loss: 0.4442 - accuracy: 0.8201 - val_loss: 0.3978 - val_accuracy: 0.8421\n",
      "Epoch 40/50\n",
      "76/76 [==============================] - 52s 681ms/step - loss: 0.4414 - accuracy: 0.8213 - val_loss: 0.3943 - val_accuracy: 0.8429\n",
      "Epoch 41/50\n",
      "76/76 [==============================] - 52s 682ms/step - loss: 0.4391 - accuracy: 0.8226 - val_loss: 0.3902 - val_accuracy: 0.8450\n",
      "Epoch 42/50\n",
      "76/76 [==============================] - 52s 680ms/step - loss: 0.4360 - accuracy: 0.8239 - val_loss: 0.3881 - val_accuracy: 0.8458\n",
      "Epoch 43/50\n",
      "76/76 [==============================] - 52s 679ms/step - loss: 0.4343 - accuracy: 0.8244 - val_loss: 0.3873 - val_accuracy: 0.8461\n",
      "Epoch 44/50\n",
      "76/76 [==============================] - 52s 678ms/step - loss: 0.4321 - accuracy: 0.8256 - val_loss: 0.3859 - val_accuracy: 0.8470\n",
      "Epoch 45/50\n",
      "76/76 [==============================] - 52s 680ms/step - loss: 0.4296 - accuracy: 0.8263 - val_loss: 0.3801 - val_accuracy: 0.8496\n",
      "Epoch 46/50\n",
      "76/76 [==============================] - 52s 680ms/step - loss: 0.4271 - accuracy: 0.8276 - val_loss: 0.3795 - val_accuracy: 0.8490\n",
      "Epoch 47/50\n",
      "76/76 [==============================] - 50s 656ms/step - loss: 0.4259 - accuracy: 0.8279 - val_loss: 0.3777 - val_accuracy: 0.8500\n",
      "Epoch 48/50\n",
      "76/76 [==============================] - 50s 658ms/step - loss: 0.4239 - accuracy: 0.8289 - val_loss: 0.3766 - val_accuracy: 0.8508\n",
      "Epoch 49/50\n",
      "76/76 [==============================] - 49s 649ms/step - loss: 0.4217 - accuracy: 0.8299 - val_loss: 0.3704 - val_accuracy: 0.8536\n",
      "Epoch 50/50\n",
      "76/76 [==============================] - 50s 657ms/step - loss: 0.4193 - accuracy: 0.8307 - val_loss: 0.3716 - val_accuracy: 0.8532\n"
     ]
    }
   ],
   "source": [
    "history = model.fit(X_train_scaled, y_train_encoded, batch_size=16384, epochs=50, validation_data = (X_val_scaled, y_test_encoded))"
   ]
  },
  {
   "cell_type": "code",
   "execution_count": 52,
   "metadata": {},
   "outputs": [
    {
     "data": {
      "text/plain": [
       "(308693, 7)"
      ]
     },
     "execution_count": 52,
     "metadata": {},
     "output_type": "execute_result"
    }
   ],
   "source": [
    "#X_val_scaled.shape"
   ]
  },
  {
   "cell_type": "code",
   "execution_count": 53,
   "metadata": {},
   "outputs": [
    {
     "data": {
      "text/plain": [
       "(308693, 1)"
      ]
     },
     "execution_count": 53,
     "metadata": {},
     "output_type": "execute_result"
    }
   ],
   "source": [
    "#y_test.shape"
   ]
  },
  {
   "cell_type": "code",
   "execution_count": 54,
   "metadata": {},
   "outputs": [
    {
     "data": {
      "text/plain": [
       "(1234771, 7)"
      ]
     },
     "execution_count": 54,
     "metadata": {},
     "output_type": "execute_result"
    }
   ],
   "source": [
    "#X_train_scaled.shape"
   ]
  },
  {
   "cell_type": "code",
   "execution_count": 55,
   "metadata": {},
   "outputs": [
    {
     "data": {
      "text/plain": [
       "(1234771, 1)"
      ]
     },
     "execution_count": 55,
     "metadata": {},
     "output_type": "execute_result"
    }
   ],
   "source": [
    "#y_train.shape"
   ]
  },
  {
   "cell_type": "code",
   "execution_count": 75,
   "metadata": {},
   "outputs": [
    {
     "data": {
      "text/plain": [
       "(1234771, 3)"
      ]
     },
     "execution_count": 75,
     "metadata": {},
     "output_type": "execute_result"
    }
   ],
   "source": [
    "#y_train_encoded.shape"
   ]
  },
  {
   "cell_type": "code",
   "execution_count": 76,
   "metadata": {},
   "outputs": [
    {
     "data": {
      "text/plain": [
       "(308693, 3)"
      ]
     },
     "execution_count": 76,
     "metadata": {},
     "output_type": "execute_result"
    }
   ],
   "source": [
    "#y_test_encoded.shape"
   ]
  },
  {
   "cell_type": "code",
   "execution_count": 38,
   "metadata": {},
   "outputs": [
    {
     "name": "stdout",
     "output_type": "stream",
     "text": [
      "9647/9647 [==============================] - 27s 3ms/step - loss: 0.3716 - accuracy: 0.8532\n",
      "Test Accuracy: 0.8532198667526245\n",
      "Test Loss: 0.37157535552978516\n"
     ]
    }
   ],
   "source": [
    "loss, accuracy = model.evaluate(X_val_scaled, y_test_encoded)\n",
    "\n",
    "print('Test Accuracy:', accuracy)\n",
    "print(\"Test Loss:\", loss)"
   ]
  },
  {
   "cell_type": "code",
   "execution_count": 39,
   "metadata": {},
   "outputs": [
    {
     "name": "stdout",
     "output_type": "stream",
     "text": [
      "Minimum validation loss: 0.37040844559669495\n"
     ]
    },
    {
     "data": {
      "image/png": "[encoded data removed]",
      "text/plain": [
       "<Figure size 640x480 with 1 Axes>"
      ]
     },
     "metadata": {},
     "output_type": "display_data"
    }
   ],
   "source": [
    "history_df = pd.DataFrame(history.history)\n",
    "history_df.loc[:, ['loss', 'val_loss']].plot();\n",
    "print(\"Minimum validation loss: {}\".format(history_df['val_loss'].min()))"
   ]
  },
  {
   "cell_type": "code",
   "execution_count": 48,
   "metadata": {},
   "outputs": [],
   "source": [
    "data_list = [merged, test_features, test_value_features, X_train1, y_train1, y_test_encoded, \n",
    "             y_train_encoded, X_train_scaled, X_val_scaled, early_stopping]\n",
    "\n",
    "with open('data.pickle', 'wb') as file:\n",
    "    pickle.dump(data_list, file)\n",
    "\n",
    "save_model(model, 'my_model.h5')"
   ]
  }
 ],
 "metadata": {
  "kernelspec": {
   "display_name": "Python 3.11.3 64-bit",
   "language": "python",
   "name": "python3"
  },
  "language_info": {
   "codemirror_mode": {
    "name": "ipython",
    "version": 3
   },
   "file_extension": ".py",
   "mimetype": "text/x-python",
   "name": "python",
   "nbconvert_exporter": "python",
   "pygments_lexer": "ipython3",
   "version": "3.11.3"
  },
  "orig_nbformat": 4,
  "vscode": {
   "interpreter": {
    "hash": "ae4550330c66d1b951b113f9fe9833d7ce9ecc0ed4ad0781832fd4e49bd97bba"
   }
  }
 },
 "nbformat": 4,
 "nbformat_minor": 2
}
